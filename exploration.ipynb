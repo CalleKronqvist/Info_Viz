{
 "cells": [
  {
   "cell_type": "code",
   "execution_count": 4,
   "metadata": {},
   "outputs": [],
   "source": [
    "import pandas as pd\n",
    "import numpy as np\n",
    "import seaborn as sns\n",
    "datapath = \"./data/\""
   ]
  },
  {
   "cell_type": "code",
   "execution_count": 25,
   "metadata": {},
   "outputs": [],
   "source": [
    "df = pd.read_csv(datapath + \"Fuel_Consumption_2000-2022.csv\") # https://www.kaggle.com/datasets/ahmettyilmazz/fuel-consumption\n",
    "df_prices = pd.read_csv(datapath + \"Fuel_prices_Canada.csv\") # https://www150.statcan.gc.ca/t1/tbl1/en/tv.action?pid=1810000101"
   ]
  },
  {
   "cell_type": "code",
   "execution_count": null,
   "metadata": {},
   "outputs": [],
   "source": [
    "df_prices.head()"
   ]
  },
  {
   "cell_type": "markdown",
   "metadata": {},
   "source": [
    "Preprocessing"
   ]
  },
  {
   "cell_type": "code",
   "execution_count": 11,
   "metadata": {},
   "outputs": [],
   "source": [
    "# Drop records with NAs\n",
    "def clean_dataset(df: pd.DataFrame) -> pd.DataFrame:\n",
    "    return df.dropna()\n",
    "\n",
    "# Drop unused columns\n",
    "def remove_features(df: pd.DataFrame) -> pd.DataFrame:\n",
    "    return df.drop([\"CYLINDERS\"], axis=1)\n"
   ]
  },
  {
   "cell_type": "code",
   "execution_count": 26,
   "metadata": {},
   "outputs": [],
   "source": [
    "def preprocess_data(df: pd.DataFrame):\n",
    "    return(\n",
    "        df\n",
    "        .pipe(clean_dataset)\n",
    "        .pipe(remove_features)\n",
    "    )\n",
    "\n",
    "df = preprocess_data(df)"
   ]
  },
  {
   "cell_type": "code",
   "execution_count": 27,
   "metadata": {},
   "outputs": [
    {
     "name": "stdout",
     "output_type": "stream",
     "text": [
      "       YEAR   MAKE        MODEL  VEHICLE CLASS  ENGINE SIZE TRANSMISSION FUEL  \\\n",
      "0      2000  ACURA        1.6EL        COMPACT          1.6           A4    X   \n",
      "1      2000  ACURA        1.6EL        COMPACT          1.6           M5    X   \n",
      "2      2000  ACURA        3.2TL       MID-SIZE          3.2          AS5    Z   \n",
      "3      2000  ACURA        3.5RL       MID-SIZE          3.5           A4    Z   \n",
      "4      2000  ACURA      INTEGRA     SUBCOMPACT          1.8           A4    X   \n",
      "...     ...    ...          ...            ...          ...          ...  ...   \n",
      "22551  2022  Volvo  XC40 T5 AWD     SUV: Small          2.0          AS8    Z   \n",
      "22552  2022  Volvo  XC60 B5 AWD     SUV: Small          2.0          AS8    Z   \n",
      "22553  2022  Volvo  XC60 B6 AWD     SUV: Small          2.0          AS8    Z   \n",
      "22554  2022  Volvo  XC90 T5 AWD  SUV: Standard          2.0          AS8    Z   \n",
      "22555  2022  Volvo  XC90 T6 AWD  SUV: Standard          2.0          AS8    Z   \n",
      "\n",
      "       FUEL CONSUMPTION  HWY (L/100 km)  COMB (L/100 km)  COMB (mpg)  \\\n",
      "0                   9.2             6.7              8.1          35   \n",
      "1                   8.5             6.5              7.6          37   \n",
      "2                  12.2             7.4             10.0          28   \n",
      "3                  13.4             9.2             11.5          25   \n",
      "4                  10.0             7.0              8.6          33   \n",
      "...                 ...             ...              ...         ...   \n",
      "22551              10.7             7.7              9.4          30   \n",
      "22552              10.5             8.1              9.4          30   \n",
      "22553              11.0             8.7              9.9          29   \n",
      "22554              11.5             8.4             10.1          28   \n",
      "22555              12.4             8.9             10.8          26   \n",
      "\n",
      "       EMISSIONS  \n",
      "0            186  \n",
      "1            175  \n",
      "2            230  \n",
      "3            264  \n",
      "4            198  \n",
      "...          ...  \n",
      "22551        219  \n",
      "22552        219  \n",
      "22553        232  \n",
      "22554        236  \n",
      "22555        252  \n",
      "\n",
      "[22556 rows x 12 columns]\n"
     ]
    }
   ],
   "source": [
    "print(df)"
   ]
  }
 ],
 "metadata": {
  "kernelspec": {
   "display_name": "Python 3",
   "language": "python",
   "name": "python3"
  },
  "language_info": {
   "codemirror_mode": {
    "name": "ipython",
    "version": 3
   },
   "file_extension": ".py",
   "mimetype": "text/x-python",
   "name": "python",
   "nbconvert_exporter": "python",
   "pygments_lexer": "ipython3",
   "version": "3.12.3"
  }
 },
 "nbformat": 4,
 "nbformat_minor": 2
}
