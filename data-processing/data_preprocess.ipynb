{
 "cells": [
  {
   "cell_type": "code",
   "execution_count": 27,
   "metadata": {},
   "outputs": [],
   "source": [
    "import pandas as pd\n",
    "import numpy as np\n",
    "import seaborn as sns\n",
    "datapath = \"./data/\""
   ]
  },
  {
   "cell_type": "code",
   "execution_count": 28,
   "metadata": {},
   "outputs": [],
   "source": [
    "df = pd.read_csv(\"Fuel_Consumption_2000-2022.csv\") # https://www.kaggle.com/datasets/ahmettyilmazz/fuel-consumption\n",
    "df_prices = pd.read_csv(\"Fuel_prices_Canada.csv\") # https://www150.statcan.gc.ca/t1/tbl1/en/tv.action?pid=1810000101"
   ]
  },
  {
   "cell_type": "code",
   "execution_count": 29,
   "metadata": {},
   "outputs": [],
   "source": [
    "\n",
    "def subset_price_df(df_prices):\n",
    "    # Only keep the date, type of fuel and cost\n",
    "    df_prices = df_prices[[\"REF_DATE\",\"Type of fuel\", \"VALUE\"]]\n",
    "\n",
    "    # Only keep values in the interval 2000-2022\n",
    "    df_prices['REF_DATE'] = pd.to_datetime(df_prices['REF_DATE'], format='%Y-%m')\n",
    "    # df_prices.loc[:, 'REF_DATE'] = pd.to_datetime(df_prices['REF_DATE'], format='%Y-%m')\n",
    "\n",
    "    df_prices = df_prices.loc[(df_prices['REF_DATE'] >= '2000-01')\n",
    "                        & (df_prices['REF_DATE'] < '2023-01')]\n",
    "\n",
    "    # Only keep the values from self-service stations\n",
    "    df_prices = df_prices[df_prices['Type of fuel'].str.contains('self service')]\n",
    "    return df_prices\n",
    "\n",
    "def reformat_price_df(df):\n",
    "    df['REF_DATE'] = df['REF_DATE'].dt.year\n",
    "    replacement_dict = {\n",
    "        'Diesel fuel at self service filling stations': 'D',\n",
    "        'Premium unleaded gasoline at self service filling stations': 'Z',\n",
    "        'Regular unleaded gasoline at self service filling stations': 'X'\n",
    "    }\n",
    "    df['Type of fuel'] = df['Type of fuel'].map(replacement_dict)\n",
    "\n",
    "    df = df.rename(columns={\"REF_DATE\":\"YEAR\", \"Type of fuel\":\"FUEL\", \"VALUE\":\"FUEL COST\"})\n",
    "    return df\n",
    "\n",
    "def aggregate_price_df(df):\n",
    "    return df.groupby(['FUEL','YEAR']).mean()\n"
   ]
  },
  {
   "cell_type": "markdown",
   "metadata": {},
   "source": [
    "Preprocessing"
   ]
  },
  {
   "cell_type": "code",
   "execution_count": 30,
   "metadata": {},
   "outputs": [],
   "source": [
    "# Drop records with NAs\n",
    "def clean_dataset(df: pd.DataFrame) -> pd.DataFrame:\n",
    "    return df.dropna()\n",
    "\n",
    "# Drop unused columns\n",
    "def remove_features(df: pd.DataFrame) -> pd.DataFrame:\n",
    "    return df.drop([\"CYLINDERS\", \"TRANSMISSION\", \"HWY (L/100 km)\", \"COMB (L/100 km)\", \"COMB (mpg)\"], axis=1)\n",
    "\n",
    "# Remove subsections of classes\n",
    "def remove_class_subsections(df: pd.DataFrame) -> pd.DataFrame:\n",
    "    df['VEHICLE CLASS'] = df['VEHICLE CLASS'].str.split(': ').str[0]\n",
    "    df['VEHICLE CLASS'] = df['VEHICLE CLASS'].str.split(' - ').str[0]\n",
    "    df['VEHICLE CLASS'] = df['VEHICLE CLASS'].str.upper()\n",
    "    return df\n",
    "def capitalize_make_column(df:pd.DataFrame) -> pd.DataFrame:\n",
    "    df['MAKE'] = df['MAKE'].str.upper()\n",
    "    return df\n",
    "def normalize_model_column(df:pd.DataFrame) ->pd.DataFrame:\n",
    "    df['MODEL'] = df['MODEL'].str.lower()\n",
    "\n",
    "    df['MODEL'] = df['MODEL'].str.capitalize()\n",
    "\n",
    "# Subset price dataset to match vehicle data\n",
    "def subset_price_df(df_prices:pd.DataFrame) -> pd.DataFrame:\n",
    "    # Only keep the date, type of fuel and cost\n",
    "    df_prices = df_prices[[\"REF_DATE\",\"Type of fuel\", \"VALUE\"]]\n",
    "\n",
    "    # Only keep values in the interval 2000-2022\n",
    "    df_prices['REF_DATE'] = pd.to_datetime(df_prices['REF_DATE'], format='%Y-%m')\n",
    "    # df_prices.loc[:, 'REF_DATE'] = pd.to_datetime(df_prices['REF_DATE'], format='%Y-%m')\n",
    "\n",
    "    df_prices = df_prices.loc[(df_prices['REF_DATE'] >= '2000-01')\n",
    "                        & (df_prices['REF_DATE'] < '2023-01')]\n",
    "\n",
    "    # Only keep the values from self-service stations\n",
    "    df_prices = df_prices[df_prices['Type of fuel'].str.contains('self service')]\n",
    "    return df_prices\n",
    "\n",
    "# Reformat price dataframe to match vehicle dataframe\n",
    "def reformat_price_df(df:pd.DataFrame) -> pd.DataFrame:\n",
    "    df['REF_DATE'] = df['REF_DATE'].dt.year\n",
    "    replacement_dict = {\n",
    "        'Diesel fuel at self service filling stations': 'D',\n",
    "        'Premium unleaded gasoline at self service filling stations': 'Z',\n",
    "        'Regular unleaded gasoline at self service filling stations': 'X'\n",
    "    }\n",
    "    df['Type of fuel'] = df['Type of fuel'].map(replacement_dict)\n",
    "\n",
    "    df = df.rename(columns={\"REF_DATE\":\"YEAR\", \"Type of fuel\":\"FUEL\", \"VALUE\":\"FUEL COST\"})\n",
    "    return df\n",
    "\n",
    "# Aggregate price dataframe based on fuel type and year\n",
    "def aggregate_price_df(df: pd.DataFrame) -> pd.DataFrame:\n",
    "    return df.groupby(['FUEL','YEAR']).mean()\n",
    "\n",
    "\n"
   ]
  },
  {
   "cell_type": "code",
   "execution_count": 31,
   "metadata": {},
   "outputs": [
    {
     "name": "stderr",
     "output_type": "stream",
     "text": [
      "C:\\Users\\Carl\\AppData\\Local\\Temp\\ipykernel_3504\\1539522244.py:29: SettingWithCopyWarning: \n",
      "A value is trying to be set on a copy of a slice from a DataFrame.\n",
      "Try using .loc[row_indexer,col_indexer] = value instead\n",
      "\n",
      "See the caveats in the documentation: https://pandas.pydata.org/pandas-docs/stable/user_guide/indexing.html#returning-a-view-versus-a-copy\n",
      "  df_prices['REF_DATE'] = pd.to_datetime(df_prices['REF_DATE'], format='%Y-%m')\n"
     ]
    }
   ],
   "source": [
    "def preprocess_data(df: pd.DataFrame):\n",
    "    return(\n",
    "        df\n",
    "        .pipe(clean_dataset)\n",
    "        .pipe(remove_features)\n",
    "        .pipe(remove_class_subsections)\n",
    "        .pipe(capitalize_make_column)\n",
    "        # .pipe(normalize_model_column)\n",
    "    )\n",
    "\n",
    "def preprocess_price_data(df: pd.DataFrame):\n",
    "    return(\n",
    "        df\n",
    "        .pipe(subset_price_df)\n",
    "        .pipe(reformat_price_df)\n",
    "        .pipe(aggregate_price_df)\n",
    "    )\n",
    "\n",
    "df = preprocess_data(df)\n",
    "df_prices = preprocess_price_data(df_prices)\n",
    "\n",
    "df_merged = df.merge(df_prices, on=['FUEL', 'YEAR'], how='left')\n"
   ]
  },
  {
   "cell_type": "code",
   "execution_count": 32,
   "metadata": {},
   "outputs": [],
   "source": [
    "# df_merged.drop_duplicates(subset=['MODEL'], inplace=True)\n",
    "df_merged['MODEL'] = df_merged['MODEL'].str.upper()\n",
    "df_merged[df_merged['MODEL']=='AVENTADOR ROADSTER']\n",
    "df_merged.loc[df_merged['VEHICLE CLASS'].isin(['MINICOMPACT', 'SUBCOMPACT']), 'VEHICLE CLASS'] = 'COMPACT'\n",
    "df_merged['ENGINE SIZE'] = df_merged['ENGINE SIZE'].astype(str)"
   ]
  },
  {
   "cell_type": "code",
   "execution_count": 33,
   "metadata": {},
   "outputs": [],
   "source": [
    "df_merged.to_json('data.json', index=False, orient=\"records\")"
   ]
  },
  {
   "cell_type": "code",
   "execution_count": 34,
   "metadata": {},
   "outputs": [
    {
     "data": {
      "text/html": [
       "<svg  width=\"660\" height=\"55\"><rect x=\"0\" y=\"0\" width=\"55\" height=\"55\" style=\"fill:#a6cee3;stroke-width:2;stroke:rgb(255,255,255)\"/><rect x=\"55\" y=\"0\" width=\"55\" height=\"55\" style=\"fill:#1f78b4;stroke-width:2;stroke:rgb(255,255,255)\"/><rect x=\"110\" y=\"0\" width=\"55\" height=\"55\" style=\"fill:#b2df8a;stroke-width:2;stroke:rgb(255,255,255)\"/><rect x=\"165\" y=\"0\" width=\"55\" height=\"55\" style=\"fill:#33a02c;stroke-width:2;stroke:rgb(255,255,255)\"/><rect x=\"220\" y=\"0\" width=\"55\" height=\"55\" style=\"fill:#fb9a99;stroke-width:2;stroke:rgb(255,255,255)\"/><rect x=\"275\" y=\"0\" width=\"55\" height=\"55\" style=\"fill:#e31a1c;stroke-width:2;stroke:rgb(255,255,255)\"/><rect x=\"330\" y=\"0\" width=\"55\" height=\"55\" style=\"fill:#fdbf6f;stroke-width:2;stroke:rgb(255,255,255)\"/><rect x=\"385\" y=\"0\" width=\"55\" height=\"55\" style=\"fill:#ff7f00;stroke-width:2;stroke:rgb(255,255,255)\"/><rect x=\"440\" y=\"0\" width=\"55\" height=\"55\" style=\"fill:#cab2d6;stroke-width:2;stroke:rgb(255,255,255)\"/><rect x=\"495\" y=\"0\" width=\"55\" height=\"55\" style=\"fill:#6a3d9a;stroke-width:2;stroke:rgb(255,255,255)\"/><rect x=\"550\" y=\"0\" width=\"55\" height=\"55\" style=\"fill:#ffff99;stroke-width:2;stroke:rgb(255,255,255)\"/><rect x=\"605\" y=\"0\" width=\"55\" height=\"55\" style=\"fill:#b15928;stroke-width:2;stroke:rgb(255,255,255)\"/></svg>"
      ],
      "text/plain": [
       "[(0.6509803921568628, 0.807843137254902, 0.8901960784313725),\n",
       " (0.12156862745098039, 0.47058823529411764, 0.7058823529411765),\n",
       " (0.6980392156862745, 0.8745098039215686, 0.5411764705882353),\n",
       " (0.2, 0.6274509803921569, 0.17254901960784313),\n",
       " (0.984313725490196, 0.6039215686274509, 0.6),\n",
       " (0.8901960784313725, 0.10196078431372549, 0.10980392156862745),\n",
       " (0.9921568627450981, 0.7490196078431373, 0.43529411764705883),\n",
       " (1.0, 0.4980392156862745, 0.0),\n",
       " (0.792156862745098, 0.6980392156862745, 0.8392156862745098),\n",
       " (0.41568627450980394, 0.23921568627450981, 0.6039215686274509),\n",
       " (1.0, 1.0, 0.6),\n",
       " (0.6941176470588235, 0.34901960784313724, 0.1568627450980392)]"
      ]
     },
     "execution_count": 34,
     "metadata": {},
     "output_type": "execute_result"
    }
   ],
   "source": [
    "sns.color_palette(\"Paired\", 12)\n"
   ]
  },
  {
   "cell_type": "code",
   "execution_count": null,
   "metadata": {},
   "outputs": [],
   "source": []
  },
  {
   "cell_type": "code",
   "execution_count": null,
   "metadata": {},
   "outputs": [],
   "source": []
  },
  {
   "cell_type": "code",
   "execution_count": null,
   "metadata": {},
   "outputs": [],
   "source": []
  }
 ],
 "metadata": {
  "kernelspec": {
   "display_name": "Python 3",
   "language": "python",
   "name": "python3"
  },
  "language_info": {
   "codemirror_mode": {
    "name": "ipython",
    "version": 3
   },
   "file_extension": ".py",
   "mimetype": "text/x-python",
   "name": "python",
   "nbconvert_exporter": "python",
   "pygments_lexer": "ipython3",
   "version": "3.11.7"
  }
 },
 "nbformat": 4,
 "nbformat_minor": 2
}
